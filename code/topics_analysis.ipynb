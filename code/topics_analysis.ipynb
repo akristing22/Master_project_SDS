{
 "cells": [
  {
   "cell_type": "code",
   "execution_count": 1,
   "metadata": {},
   "outputs": [],
   "source": [
    "import numpy as np\n",
    "import pandas as pd\n",
    "import matplotlib.pyplot as plt\n",
    "import seaborn as sns\n",
    "from scipy import stats"
   ]
  },
  {
   "cell_type": "code",
   "execution_count": 2,
   "metadata": {},
   "outputs": [
    {
     "name": "stdout",
     "output_type": "stream",
     "text": [
      "3.9.13 | packaged by conda-forge | (main, May 27 2022, 16:56:21) \n",
      "[GCC 10.3.0]\n",
      "1.5.0\n",
      "1.9.1\n"
     ]
    }
   ],
   "source": [
    "#get versions of packages\n",
    "import sys\n",
    "print(sys.version)\n",
    "print(pd.__version__)\n",
    "import scipy\n",
    "print(scipy.__version__)"
   ]
  },
  {
   "cell_type": "code",
   "execution_count": 3,
   "metadata": {},
   "outputs": [
    {
     "name": "stdout",
     "output_type": "stream",
     "text": [
      "['debate_topic', 'debate_index', 'twitter_1_topic', 'twitter_1_index', 'twitter_2_topic', 'twitter_2_index', 'twitter_3_topic', 'twitter_3_index', 'score', 'Lawrence', 'Kris', 'Jona', 'SUM', 'Unnamed: 13', 'FINAL CHOICE', 'Notes']\n",
      "['Unnamed: 0', 'Topic', 'Count', 'Name', 'Representation', 'Representative_Docs', 'Super_Topic', 'Unnamed: 7', 'Unnamed: 8', 'Unnamed: 9', 'Unnamed: 10', 'Unnamed: 11', 'Unnamed: 12']\n",
      "['Unnamed: 0', 'Topic', 'Count', 'Name', 'Representation', 'Representative_Docs', 'Super_Topic', 'Unnamed: 7', 'Unnamed: 8', 'Unnamed: 9', 'Unnamed: 10', 'Unnamed: 11']\n"
     ]
    }
   ],
   "source": [
    "#load data frames (bt = bundestag, tw = twitter)\n",
    "mappings = pd.read_excel(\"../data/topic_mapping_FINAL.xlsx\")\n",
    "tw_topics = pd.read_excel(\"../data/twitter_model_Super_FINAL.xlsx\")\n",
    "bt_topics = pd.read_excel(\"../data/parl_model_Super_FINAL.xlsx\")\n",
    "\n",
    "print(list(mappings.columns))\n",
    "print(list(tw_topics.columns))\n",
    "print(list(bt_topics.columns))\n"
   ]
  },
  {
   "cell_type": "code",
   "execution_count": 4,
   "metadata": {},
   "outputs": [],
   "source": [
    "#filter unnecessary columns\n",
    "mappings = mappings.filter(items = [\"debate_index\", \"twitter_1_index\", \"twitter_2_index\", \"twitter_3_index\", \"FINAL CHOICE\"])\n",
    "mappings.rename(columns = {\"debate_index\":\"bt_idx\", \"twitter_1_index\":\"tw1_idx\", \"twitter_2_index\":\"tw2_idx\", \"twitter_3_index\":\"tw3_idx\", \"FINAL CHOICE\":\"choice\"}, inplace = True)\n",
    "\n",
    "tw_topics = tw_topics.filter(items = [\"Topic\", \"Count\", \"Super_Topic\"])\n",
    "bt_topics = bt_topics.filter(items = [\"Topic\", \"Count\", \"Super_Topic\"])"
   ]
  },
  {
   "cell_type": "code",
   "execution_count": 5,
   "metadata": {},
   "outputs": [
    {
     "name": "stdout",
     "output_type": "stream",
     "text": [
      "   bt_idx  tw1_idx  tw2_idx  tw3_idx  choice\n",
      "0      24       27        9       14       1\n",
      "1      30       25       80       59       1\n",
      "2      42       55       44       14       1\n",
      "3       5        9       80       97       1\n",
      "4     124       56       51       49       1\n",
      "   Topic   Count Super_Topic\n",
      "0     -1  204638   Sonstiges\n",
      "1      0   45824   Sonstiges\n",
      "2      1   24616   Sonstiges\n",
      "3      2   21305   Sonstiges\n",
      "4      3   19439   Sonstiges\n",
      "   Topic  Count         Super_Topic\n",
      "0     -1   9129           Sonstiges\n",
      "1      0    563          Gesundheit\n",
      "2      1    534           Sonstiges\n",
      "3      2    461           Sonstiges\n",
      "4      3    422  Inneres und Heimat\n"
     ]
    }
   ],
   "source": [
    "print(mappings.head())\n",
    "print(tw_topics.head())\n",
    "print(bt_topics.head())"
   ]
  },
  {
   "cell_type": "code",
   "execution_count": 6,
   "metadata": {},
   "outputs": [],
   "source": [
    "#create data frame with column containing matched twitter topic index\n",
    "\n",
    "data = mappings.copy()\n",
    "\n",
    "def choose_topic(row):\n",
    "    if row[\"choice\"] == 0:\n",
    "        return np.nan\n",
    "    if row[\"choice\"] == 1:\n",
    "        return row[\"tw1_idx\"]\n",
    "    if row[\"choice\"] == 2:\n",
    "        return row[\"tw2_idx\"]\n",
    "    if row[\"choice\"] == 3:\n",
    "        return row[\"tw3_idx\"]\n",
    "    else:\n",
    "        return \"ERROR\"\n",
    "    \n",
    "data[\"tw_topic\"] = data.apply(choose_topic, axis = 1)\n"
   ]
  },
  {
   "cell_type": "code",
   "execution_count": 7,
   "metadata": {},
   "outputs": [
    {
     "name": "stdout",
     "output_type": "stream",
     "text": [
      "0    67\n",
      "1    58\n",
      "2     7\n",
      "3     1\n",
      "Name: choice, dtype: int64\n",
      "    bt_idx  tw1_idx  tw2_idx  tw3_idx  choice  tw_topic\n",
      "28      14       15       14       82       0       NaN\n",
      "30      17       50       15       97       0       NaN\n",
      "35     103       30        0       21       0       NaN\n",
      "39      76       75       15       50       0       NaN\n",
      "41      -1        0       80       47       0       NaN\n",
      "(67, 6)\n",
      "   bt_idx  tw1_idx  tw2_idx  tw3_idx  choice  tw_topic\n",
      "0      24       27        9       14       1      27.0\n",
      "1      30       25       80       59       1      25.0\n",
      "2      42       55       44       14       1      55.0\n",
      "3       5        9       80       97       1       9.0\n",
      "4     124       56       51       49       1      56.0\n",
      "(58, 6)\n",
      "    bt_idx  tw1_idx  tw2_idx  tw3_idx  choice  tw_topic\n",
      "42     110       58       31       15       2      31.0\n",
      "50     106       58       23       15       2      23.0\n",
      "67      29        4       53        6       2      53.0\n",
      "68      83       50       43       97       2      43.0\n",
      "94     112       43        6        0       2       6.0\n",
      "(7, 6)\n",
      "     bt_idx  tw1_idx  tw2_idx  tw3_idx  choice  tw_topic\n",
      "106      43       50       15        8       3       8.0\n",
      "(1, 6)\n"
     ]
    }
   ],
   "source": [
    "#verify correct matching\n",
    "print(data[\"choice\"].value_counts())\n",
    "print(data[data[\"choice\"] == 0].head())\n",
    "print(data[data[\"choice\"] == 0].shape)\n",
    "print(data[data[\"choice\"] == 1].head())\n",
    "print(data[data[\"choice\"] == 1].shape)\n",
    "print(data[data[\"choice\"] == 2].head())\n",
    "print(data[data[\"choice\"] == 2].shape)\n",
    "print(data[data[\"choice\"] == 3].head())\n",
    "print(data[data[\"choice\"] == 3].shape)"
   ]
  },
  {
   "cell_type": "code",
   "execution_count": 8,
   "metadata": {},
   "outputs": [
    {
     "name": "stdout",
     "output_type": "stream",
     "text": [
      "   bt_idx  tw1_idx  tw2_idx  tw3_idx  choice  tw_topic\n",
      "0      24       27        9       14       1        27\n",
      "1      30       25       80       59       1        25\n",
      "2      42       55       44       14       1        55\n",
      "3       5        9       80       97       1         9\n",
      "4     124       56       51       49       1        56\n",
      "(66, 6)\n"
     ]
    }
   ],
   "source": [
    "#drop rows with unmatched topics\n",
    "data.dropna(axis = 0, inplace = True)\n",
    "data = data.astype({\"tw_topic\" : int})\n",
    "print(data.head())\n",
    "print(data.shape)"
   ]
  },
  {
   "cell_type": "code",
   "execution_count": 9,
   "metadata": {},
   "outputs": [],
   "source": [
    "#create dictionaries with the counts for each topic\n",
    "tw_topic_counts = dict()\n",
    "bt_topic_counts = dict()\n",
    "\n",
    "for i, row in tw_topics.iterrows():\n",
    "    tw_topic_counts[row[\"Topic\"]] = row[\"Count\"]\n",
    "\n",
    "for i, row in bt_topics.iterrows():\n",
    "    bt_topic_counts[row[\"Topic\"]] = row[\"Count\"]"
   ]
  },
  {
   "cell_type": "code",
   "execution_count": 10,
   "metadata": {},
   "outputs": [],
   "source": [
    "#create column with number of documents for twitter topics\n",
    "def get_tw_count(row):\n",
    "    return tw_topic_counts[row[\"tw_topic\"]]\n",
    "\n",
    "data[\"tw_count\"] = data.apply(get_tw_count, axis = 1)"
   ]
  },
  {
   "cell_type": "code",
   "execution_count": 11,
   "metadata": {},
   "outputs": [
    {
     "name": "stdout",
     "output_type": "stream",
     "text": [
      "   bt_idx  tw1_idx  tw2_idx  tw3_idx  choice  tw_topic  tw_count\n",
      "0      24       27        9       14       1        27      2055\n",
      "1      30       25       80       59       1        25      2180\n",
      "2      42       55       44       14       1        55       856\n",
      "3       5        9       80       97       1         9      5628\n",
      "4     124       56       51       49       1        56       838\n"
     ]
    }
   ],
   "source": [
    "print(data.head())"
   ]
  },
  {
   "cell_type": "code",
   "execution_count": 12,
   "metadata": {},
   "outputs": [
    {
     "name": "stdout",
     "output_type": "stream",
     "text": [
      "{27: [24], 25: [30], 55: [42], 9: [5], 56: [124], 29: [31, 77, 73], 50: [57], 41: [28], 34: [26], 28: [51], 71: [10], 35: [75], 85: [35, 97], 97: [80, 91], 37: [21, 101], 53: [78, 29], 10: [11], 73: [84], 44: [118], 91: [93], 68: [34], 36: [53], 75: [32], 83: [113], 15: [102], 0: [2], 43: [22, 83], 4: [15, 74, 36], 54: [18, 94], 13: [25], 33: [55], 31: [130, 110], 38: [3], 23: [86, 106], 20: [19], 11: [6, 49, 105], 7: [0], 78: [119], 45: [58], 22: [7], 70: [121], 69: [59], 72: [16], 46: [85], 6: [13, 4, 112], 8: [9, 43], 77: [65], 42: [114], 47: [96]}\n"
     ]
    }
   ],
   "source": [
    "#create dictionary containing all bt topics matched onto any tw topic\n",
    "matched_topics = dict()\n",
    "\n",
    "for i in pd.unique(data[\"tw_topic\"]):\n",
    "    matched_topics[i] = []\n",
    "\n",
    "for i, row in data.iterrows():\n",
    "    matched_topics[row[\"tw_topic\"]].append(row[\"bt_idx\"])\n",
    "\n",
    "print(matched_topics)"
   ]
  },
  {
   "cell_type": "code",
   "execution_count": 13,
   "metadata": {},
   "outputs": [],
   "source": [
    "#create column with all matched bt topics for tw topics\n",
    "def assign_bt(row):\n",
    "    return matched_topics[row[\"tw_topic\"]]\n",
    "\n",
    "data[\"bt_topics\"] = data.apply(assign_bt, axis = 1)"
   ]
  },
  {
   "cell_type": "code",
   "execution_count": 14,
   "metadata": {},
   "outputs": [
    {
     "name": "stdout",
     "output_type": "stream",
     "text": [
      "(66, 8)\n"
     ]
    },
    {
     "data": {
      "text/html": [
       "<div>\n",
       "<style scoped>\n",
       "    .dataframe tbody tr th:only-of-type {\n",
       "        vertical-align: middle;\n",
       "    }\n",
       "\n",
       "    .dataframe tbody tr th {\n",
       "        vertical-align: top;\n",
       "    }\n",
       "\n",
       "    .dataframe thead th {\n",
       "        text-align: right;\n",
       "    }\n",
       "</style>\n",
       "<table border=\"1\" class=\"dataframe\">\n",
       "  <thead>\n",
       "    <tr style=\"text-align: right;\">\n",
       "      <th></th>\n",
       "      <th>bt_idx</th>\n",
       "      <th>tw1_idx</th>\n",
       "      <th>tw2_idx</th>\n",
       "      <th>tw3_idx</th>\n",
       "      <th>choice</th>\n",
       "      <th>tw_topic</th>\n",
       "      <th>tw_count</th>\n",
       "      <th>bt_topics</th>\n",
       "    </tr>\n",
       "  </thead>\n",
       "  <tbody>\n",
       "    <tr>\n",
       "      <th>0</th>\n",
       "      <td>24</td>\n",
       "      <td>27</td>\n",
       "      <td>9</td>\n",
       "      <td>14</td>\n",
       "      <td>1</td>\n",
       "      <td>27</td>\n",
       "      <td>2055</td>\n",
       "      <td>[24]</td>\n",
       "    </tr>\n",
       "    <tr>\n",
       "      <th>1</th>\n",
       "      <td>30</td>\n",
       "      <td>25</td>\n",
       "      <td>80</td>\n",
       "      <td>59</td>\n",
       "      <td>1</td>\n",
       "      <td>25</td>\n",
       "      <td>2180</td>\n",
       "      <td>[30]</td>\n",
       "    </tr>\n",
       "    <tr>\n",
       "      <th>2</th>\n",
       "      <td>42</td>\n",
       "      <td>55</td>\n",
       "      <td>44</td>\n",
       "      <td>14</td>\n",
       "      <td>1</td>\n",
       "      <td>55</td>\n",
       "      <td>856</td>\n",
       "      <td>[42]</td>\n",
       "    </tr>\n",
       "    <tr>\n",
       "      <th>3</th>\n",
       "      <td>5</td>\n",
       "      <td>9</td>\n",
       "      <td>80</td>\n",
       "      <td>97</td>\n",
       "      <td>1</td>\n",
       "      <td>9</td>\n",
       "      <td>5628</td>\n",
       "      <td>[5]</td>\n",
       "    </tr>\n",
       "    <tr>\n",
       "      <th>4</th>\n",
       "      <td>124</td>\n",
       "      <td>56</td>\n",
       "      <td>51</td>\n",
       "      <td>49</td>\n",
       "      <td>1</td>\n",
       "      <td>56</td>\n",
       "      <td>838</td>\n",
       "      <td>[124]</td>\n",
       "    </tr>\n",
       "    <tr>\n",
       "      <th>...</th>\n",
       "      <td>...</td>\n",
       "      <td>...</td>\n",
       "      <td>...</td>\n",
       "      <td>...</td>\n",
       "      <td>...</td>\n",
       "      <td>...</td>\n",
       "      <td>...</td>\n",
       "      <td>...</td>\n",
       "    </tr>\n",
       "    <tr>\n",
       "      <th>99</th>\n",
       "      <td>91</td>\n",
       "      <td>97</td>\n",
       "      <td>64</td>\n",
       "      <td>14</td>\n",
       "      <td>1</td>\n",
       "      <td>97</td>\n",
       "      <td>315</td>\n",
       "      <td>[80, 91]</td>\n",
       "    </tr>\n",
       "    <tr>\n",
       "      <th>101</th>\n",
       "      <td>105</td>\n",
       "      <td>11</td>\n",
       "      <td>6</td>\n",
       "      <td>43</td>\n",
       "      <td>1</td>\n",
       "      <td>11</td>\n",
       "      <td>5062</td>\n",
       "      <td>[6, 49, 105]</td>\n",
       "    </tr>\n",
       "    <tr>\n",
       "      <th>106</th>\n",
       "      <td>43</td>\n",
       "      <td>50</td>\n",
       "      <td>15</td>\n",
       "      <td>8</td>\n",
       "      <td>3</td>\n",
       "      <td>8</td>\n",
       "      <td>7900</td>\n",
       "      <td>[9, 43]</td>\n",
       "    </tr>\n",
       "    <tr>\n",
       "      <th>110</th>\n",
       "      <td>73</td>\n",
       "      <td>29</td>\n",
       "      <td>0</td>\n",
       "      <td>80</td>\n",
       "      <td>1</td>\n",
       "      <td>29</td>\n",
       "      <td>1709</td>\n",
       "      <td>[31, 77, 73]</td>\n",
       "    </tr>\n",
       "    <tr>\n",
       "      <th>127</th>\n",
       "      <td>96</td>\n",
       "      <td>0</td>\n",
       "      <td>47</td>\n",
       "      <td>91</td>\n",
       "      <td>2</td>\n",
       "      <td>47</td>\n",
       "      <td>1065</td>\n",
       "      <td>[96]</td>\n",
       "    </tr>\n",
       "  </tbody>\n",
       "</table>\n",
       "<p>66 rows × 8 columns</p>\n",
       "</div>"
      ],
      "text/plain": [
       "     bt_idx  tw1_idx  tw2_idx  tw3_idx  choice  tw_topic  tw_count  \\\n",
       "0        24       27        9       14       1        27      2055   \n",
       "1        30       25       80       59       1        25      2180   \n",
       "2        42       55       44       14       1        55       856   \n",
       "3         5        9       80       97       1         9      5628   \n",
       "4       124       56       51       49       1        56       838   \n",
       "..      ...      ...      ...      ...     ...       ...       ...   \n",
       "99       91       97       64       14       1        97       315   \n",
       "101     105       11        6       43       1        11      5062   \n",
       "106      43       50       15        8       3         8      7900   \n",
       "110      73       29        0       80       1        29      1709   \n",
       "127      96        0       47       91       2        47      1065   \n",
       "\n",
       "        bt_topics  \n",
       "0            [24]  \n",
       "1            [30]  \n",
       "2            [42]  \n",
       "3             [5]  \n",
       "4           [124]  \n",
       "..            ...  \n",
       "99       [80, 91]  \n",
       "101  [6, 49, 105]  \n",
       "106       [9, 43]  \n",
       "110  [31, 77, 73]  \n",
       "127          [96]  \n",
       "\n",
       "[66 rows x 8 columns]"
      ]
     },
     "execution_count": 14,
     "metadata": {},
     "output_type": "execute_result"
    }
   ],
   "source": [
    "print(data.shape)\n",
    "data"
   ]
  },
  {
   "cell_type": "code",
   "execution_count": 15,
   "metadata": {},
   "outputs": [
    {
     "name": "stdout",
     "output_type": "stream",
     "text": [
      "   bt_idx  tw1_idx  tw2_idx  tw3_idx  choice  tw_topic  tw_count bt_topics\n",
      "0      24       27        9       14       1        27      2055      [24]\n",
      "1      30       25       80       59       1        25      2180      [30]\n",
      "2      42       55       44       14       1        55       856      [42]\n",
      "3       5        9       80       97       1         9      5628       [5]\n",
      "4     124       56       51       49       1        56       838     [124]\n",
      "     bt_idx  tw1_idx  tw2_idx  tw3_idx  choice  tw_topic  tw_count  \\\n",
      "58       13        6        0       43       1         6     10450   \n",
      "61        9        8        0        6       1         8      7900   \n",
      "65       65       77       36        0       1        77       482   \n",
      "85      114       42       78       80       1        42      1287   \n",
      "127      96        0       47       91       2        47      1065   \n",
      "\n",
      "        bt_topics  \n",
      "58   [13, 4, 112]  \n",
      "61        [9, 43]  \n",
      "65           [65]  \n",
      "85          [114]  \n",
      "127          [96]  \n",
      "(49, 8)\n"
     ]
    }
   ],
   "source": [
    "#with all bt topics matched to any tw topic contained in bt_topics column as a list, can drop duplicate rows\n",
    "data.drop_duplicates(subset = [\"tw_topic\"], keep = \"first\", inplace = True)\n",
    "print(data.head())\n",
    "print(data.tail())\n",
    "print(data.shape)"
   ]
  },
  {
   "cell_type": "code",
   "execution_count": 16,
   "metadata": {},
   "outputs": [],
   "source": [
    "#count number of bt documents containing the various bt topics matched to tw topics\n",
    "def get_bt_count(row):\n",
    "    count = 0\n",
    "    for i in row[\"bt_topics\"]:\n",
    "        count += bt_topic_counts[i]\n",
    "    return count\n",
    "\n",
    "data[\"bt_count\"] = data.apply(get_bt_count, axis = 1)"
   ]
  },
  {
   "cell_type": "code",
   "execution_count": 17,
   "metadata": {},
   "outputs": [
    {
     "name": "stdout",
     "output_type": "stream",
     "text": [
      "   tw_topic  tw_count bt_topics  bt_count\n",
      "0        27      2055      [24]       111\n",
      "1        25      2180      [30]        94\n",
      "2        55       856      [42]        53\n",
      "3         9      5628       [5]       326\n",
      "4        56       838     [124]        13\n",
      "     tw_topic  tw_count     bt_topics  bt_count\n",
      "58          6     10450  [13, 4, 112]       561\n",
      "61          8      7900       [9, 43]       290\n",
      "65         77       482          [65]        36\n",
      "85         42      1287         [114]        15\n",
      "127        47      1065          [96]        21\n",
      "(49, 4)\n"
     ]
    }
   ],
   "source": [
    "#drop unnecessary columns for further analysis\n",
    "data = data.filter(items = [\"tw_topic\", \"tw_count\", \"bt_topics\", \"bt_count\"])\n",
    "\n",
    "print(data.head())\n",
    "print(data.tail())\n",
    "print(data.shape)"
   ]
  },
  {
   "cell_type": "code",
   "execution_count": 18,
   "metadata": {},
   "outputs": [],
   "source": [
    "# data.to_excel(\"topic_data.xlsx\", index = False)"
   ]
  },
  {
   "cell_type": "code",
   "execution_count": 19,
   "metadata": {},
   "outputs": [
    {
     "data": {
      "text/plain": [
       "<AxesSubplot:xlabel='bt_count', ylabel='tw_count'>"
      ]
     },
     "execution_count": 19,
     "metadata": {},
     "output_type": "execute_result"
    },
    {
     "data": {
      "image/png": "[encoded data removed]",
      "text/plain": [
       "<Figure size 432x288 with 1 Axes>"
      ]
     },
     "metadata": {
      "needs_background": "light"
     },
     "output_type": "display_data"
    }
   ],
   "source": [
    "#scatterplot\n",
    "data[data[\"tw_count\"] <= 20000].plot.scatter(x = \"bt_count\", y = \"tw_count\")"
   ]
  },
  {
   "cell_type": "code",
   "execution_count": 20,
   "metadata": {},
   "outputs": [],
   "source": [
    "#calculate correlation coefficients\n",
    "bt_counts = data[\"bt_count\"]\n",
    "tw_counts = data[\"tw_count\"]\n",
    "\n",
    "spearman_r_topics = stats.spearmanr(bt_counts, tw_counts)\n",
    "kendall_tau_topics = stats.kendalltau(bt_counts, tw_counts)\n",
    "pearson_r_topics = stats.pearsonr(bt_counts, tw_counts)"
   ]
  },
  {
   "cell_type": "code",
   "execution_count": 21,
   "metadata": {},
   "outputs": [
    {
     "name": "stdout",
     "output_type": "stream",
     "text": [
      "SpearmanrResult(correlation=0.5634823550744922, pvalue=2.4920432938862652e-05)\n",
      "KendalltauResult(correlation=0.40000178214601567, pvalue=5.25794828202434e-05)\n",
      "(0.5745754246756333, 1.579176297270281e-05)\n",
      "ShapiroResult(statistic=0.7786471843719482, pvalue=3.5893071981263347e-07)\n",
      "ShapiroResult(statistic=0.38524365425109863, pvalue=4.935771843322945e-13)\n"
     ]
    }
   ],
   "source": [
    "print(spearman_r_topics)\n",
    "print(kendall_tau_topics)\n",
    "print(pearson_r_topics)\n",
    "\n",
    "#test for normal distribution\n",
    "print(stats.shapiro(bt_counts))\n",
    "print(stats.shapiro(tw_counts))"
   ]
  },
  {
   "cell_type": "code",
   "execution_count": 22,
   "metadata": {},
   "outputs": [
    {
     "name": "stdout",
     "output_type": "stream",
     "text": [
      "(48, 4)\n"
     ]
    }
   ],
   "source": [
    "#remove outliers with especially high document count on twitter (especially topic 0)\n",
    "data_wo_out = data.drop(data[data[\"tw_count\"] > 20000].index)\n",
    "print(data_wo_out.shape)\n"
   ]
  },
  {
   "cell_type": "code",
   "execution_count": 23,
   "metadata": {},
   "outputs": [],
   "source": [
    "#recalculate correlations\n",
    "bt_counts_2 = data_wo_out[\"bt_count\"]\n",
    "tw_counts_2 = data_wo_out[\"tw_count\"]\n",
    "\n",
    "spearman_r_topics_2 = stats.spearmanr(bt_counts_2, tw_counts_2)\n",
    "kendall_tau_topics_2 = stats.kendalltau(bt_counts_2, tw_counts_2)\n",
    "pearson_r_topics_2 = stats.pearsonr(bt_counts_2, tw_counts_2)"
   ]
  },
  {
   "cell_type": "code",
   "execution_count": 24,
   "metadata": {},
   "outputs": [
    {
     "name": "stdout",
     "output_type": "stream",
     "text": [
      "SpearmanrResult(correlation=0.5361563644331356, pvalue=8.576482132148484e-05)\n",
      "KendalltauResult(correlation=0.37794758437933157, pvalue=0.0001577368610780622)\n",
      "(0.7012939907575192, 2.8309115393756073e-08)\n",
      "ShapiroResult(statistic=0.7707504630088806, pvalue=3.010194120633969e-07)\n",
      "ShapiroResult(statistic=0.6639654636383057, pvalue=3.235217427288717e-09)\n",
      "5972\n",
      "109687\n"
     ]
    }
   ],
   "source": [
    "print(spearman_r_topics_2)\n",
    "print(kendall_tau_topics_2)\n",
    "print(pearson_r_topics_2)\n",
    "\n",
    "#test for normal distribution\n",
    "print(stats.shapiro(bt_counts_2))\n",
    "print(stats.shapiro(tw_counts_2))\n",
    "\n",
    "#get total document counts\n",
    "print(np.sum(bt_counts_2))\n",
    "print(np.sum(tw_counts_2))\n"
   ]
  },
  {
   "cell_type": "code",
   "execution_count": 25,
   "metadata": {},
   "outputs": [
    {
     "data": {
      "image/png": "[encoded data removed]",
      "text/plain": [
       "<Figure size 576x576 with 1 Axes>"
      ]
     },
     "metadata": {},
     "output_type": "display_data"
    }
   ],
   "source": [
    "#create a nicer plot\n",
    "\n",
    "fig, ax = plt.subplots(figsize=(8, 8))\n",
    "sns.scatterplot(data = data_wo_out, x = \"bt_count\", y = \"tw_count\", ax = ax, s = 100, color = \"teal\")\n",
    "ax.spines[\"top\"].set_visible(False)\n",
    "ax.spines[\"right\"].set_visible(False)\n",
    "ax.set_xlabel(\"Speech count\", fontsize = 16, fontname = \"Arial\")\n",
    "ax.set_ylabel(\"Tweet count\", fontsize = 16, fontname = \"Arial\")\n",
    "plt.xticks(fontsize = 12, fontname = \"Arial\")\n",
    "plt.yticks(fontsize = 12, fontname = \"Arial\")\n",
    "fig.patch.set_facecolor('white')\n",
    "\n",
    "#plt.savefig(\"topic_plot_paper.png\", dpi = 300, transparent = False)"
   ]
  },
  {
   "cell_type": "code",
   "execution_count": 26,
   "metadata": {},
   "outputs": [],
   "source": [
    "#aggregate document counts from bt by super topic\n",
    "bt_super = bt_topics.copy()\n",
    "bt_super.drop(columns = \"Topic\", inplace = True)\n",
    "bt_super = bt_super.groupby(by = \"Super_Topic\", dropna = False).sum()\n",
    "bt_super.rename(columns = {\"Count\":\"bt_count\"}, inplace = True)"
   ]
  },
  {
   "cell_type": "code",
   "execution_count": 27,
   "metadata": {},
   "outputs": [],
   "source": [
    "#aggregate document counts from tw by super topic\n",
    "tw_super = tw_topics.copy()\n",
    "tw_super.drop(columns = \"Topic\", inplace = True)\n",
    "tw_super = tw_super.groupby(by = \"Super_Topic\", dropna = False).sum()\n",
    "tw_super.rename(columns = {\"Count\":\"tw_count\"}, inplace = True)"
   ]
  },
  {
   "cell_type": "code",
   "execution_count": 28,
   "metadata": {},
   "outputs": [
    {
     "name": "stdout",
     "output_type": "stream",
     "text": [
      "                                             bt_count\n",
      "Super_Topic                                          \n",
      "Arbeit und Soziales                               334\n",
      "Auswärtiges Amt                                  1618\n",
      "Bau                                               274\n",
      "Bildung und Forschung                             320\n",
      "Digitale Infrastruktur                            211\n",
      "Energie                                           205\n",
      "Ernährung                                          14\n",
      "Familie, Senioren, Frauen und Jugend              722\n",
      "Finanzen                                          725\n",
      "Gesundheit                                       1128\n",
      "Inneres und Heimat                                929\n",
      "Justiz                                            301\n",
      "Landwirtschaft                                    290\n",
      "Sonstiges                                       10734\n",
      "Umwelt, Naturschutz und nukleare Sicherheit       337\n",
      "Verbraucherschutz                                 102\n",
      "Verkehr                                           304\n",
      "Verteidigung                                      245\n",
      "Wirtschaft                                        225\n",
      "                                             tw_count\n",
      "Super_Topic                                          \n",
      "Arbeit und Soziales                              1266\n",
      "Auswärtiges Amt                                 22937\n",
      "Bau                                              4734\n",
      "Digitale Infrastruktur                           1888\n",
      "Energie                                          1304\n",
      "Ernährung                                         564\n",
      "Familie, Senioren, Frauen und Jugend            14865\n",
      "Finanzen                                        12317\n",
      "Gesundheit                                      19316\n",
      "Inneres und Heimat                              15179\n",
      "Landwirtschaft                                   2229\n",
      "Sonstiges                                      371493\n",
      "Umwelt, Naturschutz und nukleare Sicherheit     14165\n",
      "Verkehr                                          8501\n",
      "Verteidigung                                     2253\n"
     ]
    }
   ],
   "source": [
    "print(bt_super)\n",
    "print(tw_super)"
   ]
  },
  {
   "cell_type": "code",
   "execution_count": 29,
   "metadata": {},
   "outputs": [
    {
     "name": "stdout",
     "output_type": "stream",
     "text": [
      "                                             bt_count  tw_count\n",
      "Super_Topic                                                    \n",
      "Arbeit und Soziales                               334      1266\n",
      "Auswärtiges Amt                                  1618     22937\n",
      "Bau                                               274      4734\n",
      "Bildung und Forschung                             320         0\n",
      "Digitale Infrastruktur                            211      1888\n",
      "Energie                                           205      1304\n",
      "Ernährung                                          14       564\n",
      "Familie, Senioren, Frauen und Jugend              722     14865\n",
      "Finanzen                                          725     12317\n",
      "Gesundheit                                       1128     19316\n",
      "Inneres und Heimat                                929     15179\n",
      "Justiz                                            301         0\n",
      "Landwirtschaft                                    290      2229\n",
      "Umwelt, Naturschutz und nukleare Sicherheit       337     14165\n",
      "Verbraucherschutz                                 102         0\n",
      "Verkehr                                           304      8501\n",
      "Verteidigung                                      245      2253\n",
      "Wirtschaft                                        225         0\n"
     ]
    }
   ],
   "source": [
    "#combine dataframes for super topics, drop category \"Sonstiges\"\n",
    "super_topics = bt_super.merge(tw_super, how = \"outer\", on = \"Super_Topic\")\n",
    "super_topics.fillna(value = 0, inplace = True)\n",
    "super_topics.drop(index = \"Sonstiges\", inplace = True)\n",
    "super_topics = super_topics.astype({\"bt_count\":int, \"tw_count\":int})\n",
    "print(super_topics)"
   ]
  },
  {
   "cell_type": "code",
   "execution_count": 30,
   "metadata": {},
   "outputs": [
    {
     "data": {
      "text/plain": [
       "<AxesSubplot:xlabel='bt_count', ylabel='tw_count'>"
      ]
     },
     "execution_count": 30,
     "metadata": {},
     "output_type": "execute_result"
    },
    {
     "data": {
      "image/png": "[encoded data removed]",
      "text/plain": [
       "<Figure size 432x288 with 1 Axes>"
      ]
     },
     "metadata": {
      "needs_background": "light"
     },
     "output_type": "display_data"
    }
   ],
   "source": [
    "#scatterplot for super topics document counts\n",
    "super_topics.plot.scatter(x = \"bt_count\", y = \"tw_count\")"
   ]
  },
  {
   "cell_type": "code",
   "execution_count": 31,
   "metadata": {},
   "outputs": [
    {
     "data": {
      "image/png": "[encoded data removed]",
      "text/plain": [
       "<Figure size 576x576 with 1 Axes>"
      ]
     },
     "metadata": {},
     "output_type": "display_data"
    }
   ],
   "source": [
    "#create a nicer plot\n",
    "\n",
    "fig, ax = plt.subplots(figsize=(8, 8))\n",
    "sns.scatterplot(data = super_topics, x = \"bt_count\", y = \"tw_count\", ax = ax, s = 100, color = \"orange\")\n",
    "ax.spines[\"top\"].set_visible(False)\n",
    "ax.spines[\"right\"].set_visible(False)\n",
    "ax.set_xlabel(\"Speech count\", fontsize = 16, fontname = \"Arial\")\n",
    "ax.set_ylabel(\"Tweet count\", fontsize = 16, fontname = \"Arial\")\n",
    "plt.xticks(fontsize = 12, fontname = \"Arial\")\n",
    "plt.yticks(fontsize = 12, fontname = \"Arial\")\n",
    "fig.patch.set_facecolor('white')\n",
    "\n",
    "#plt.savefig(\"supert_plot_paper.png\", dpi=300, transparent = False)"
   ]
  },
  {
   "cell_type": "code",
   "execution_count": 32,
   "metadata": {},
   "outputs": [],
   "source": [
    "#calculate correlation coefficients for super topics\n",
    "super_bt = super_topics[\"bt_count\"]\n",
    "super_tw = super_topics[\"tw_count\"]\n",
    "\n",
    "spearman_r_super = stats.spearmanr(super_bt, super_tw)\n",
    "kendall_tau_super = stats.kendalltau(super_bt, super_tw)\n",
    "pearson_r_super = stats.pearsonr(super_bt, super_tw)"
   ]
  },
  {
   "cell_type": "code",
   "execution_count": 33,
   "metadata": {},
   "outputs": [
    {
     "name": "stdout",
     "output_type": "stream",
     "text": [
      "SpearmanrResult(correlation=0.7427485800215359, pvalue=0.0004140519157840193)\n",
      "KendalltauResult(correlation=0.6201240372124044, pvalue=0.00039301073748266056)\n",
      "(0.8933740671594556, 5.983225051588125e-07)\n",
      "8284\n",
      "121518\n",
      "ShapiroResult(statistic=0.7882184386253357, pvalue=0.0010403756750747561)\n",
      "ShapiroResult(statistic=0.822726845741272, pvalue=0.0032400430645793676)\n"
     ]
    }
   ],
   "source": [
    "print(spearman_r_super)\n",
    "print(kendall_tau_super)\n",
    "print(pearson_r_super)\n",
    "\n",
    "#get total document counts\n",
    "print(np.sum(super_bt))\n",
    "print(np.sum(super_tw))\n",
    "\n",
    "#test for normal distribution\n",
    "print(stats.shapiro(super_bt))\n",
    "print(stats.shapiro(super_tw))"
   ]
  },
  {
   "cell_type": "code",
   "execution_count": 34,
   "metadata": {},
   "outputs": [
    {
     "data": {
      "image/png": "[encoded data removed]",
      "text/plain": [
       "<Figure size 1152x288 with 1 Axes>"
      ]
     },
     "metadata": {
      "needs_background": "light"
     },
     "output_type": "display_data"
    }
   ],
   "source": [
    "#boxplots for topic data\n",
    "plt.figure(figsize=(16, 4))\n",
    "bt_bplot = sns.boxplot(x = bt_counts, width = 0.3)"
   ]
  },
  {
   "cell_type": "code",
   "execution_count": 35,
   "metadata": {},
   "outputs": [
    {
     "data": {
      "image/png": "[encoded data removed]",
      "text/plain": [
       "<Figure size 1152x288 with 1 Axes>"
      ]
     },
     "metadata": {
      "needs_background": "light"
     },
     "output_type": "display_data"
    }
   ],
   "source": [
    "plt.figure(figsize=(16, 4))\n",
    "tw_bplot = sns.boxplot(x = tw_counts, width = 0.3)"
   ]
  },
  {
   "cell_type": "code",
   "execution_count": 36,
   "metadata": {},
   "outputs": [
    {
     "data": {
      "image/png": "[encoded data removed]",
      "text/plain": [
       "<Figure size 576x288 with 1 Axes>"
      ]
     },
     "metadata": {
      "needs_background": "light"
     },
     "output_type": "display_data"
    }
   ],
   "source": [
    "#boxplots for super topics\n",
    "plt.figure(figsize=(8, 4))\n",
    "bt_super_bplot = sns.boxplot(x = super_bt, width = 0.3)"
   ]
  },
  {
   "cell_type": "code",
   "execution_count": 37,
   "metadata": {},
   "outputs": [
    {
     "data": {
      "image/png": "[encoded data removed]",
      "text/plain": [
       "<Figure size 576x288 with 1 Axes>"
      ]
     },
     "metadata": {
      "needs_background": "light"
     },
     "output_type": "display_data"
    }
   ],
   "source": [
    "plt.figure(figsize=(8, 4))\n",
    "tw_super_bplot = sns.boxplot(x = super_tw, width = 0.3)"
   ]
  },
  {
   "cell_type": "code",
   "execution_count": null,
   "metadata": {},
   "outputs": [],
   "source": []
  }
 ],
 "metadata": {
  "kernelspec": {
   "display_name": "Python 3 (ipykernel)",
   "language": "python",
   "name": "python3"
  },
  "language_info": {
   "codemirror_mode": {
    "name": "ipython",
    "version": 3
   },
   "file_extension": ".py",
   "mimetype": "text/x-python",
   "name": "python",
   "nbconvert_exporter": "python",
   "pygments_lexer": "ipython3",
   "version": "3.9.13"
  }
 },
 "nbformat": 4,
 "nbformat_minor": 4
}
