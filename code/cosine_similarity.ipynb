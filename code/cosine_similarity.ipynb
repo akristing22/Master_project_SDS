{
 "cells": [
  {
   "cell_type": "code",
   "execution_count": 1,
   "metadata": {},
   "outputs": [
    {
     "name": "stdout",
     "output_type": "stream",
     "text": [
      "1.9.2\n",
      "1.23.4\n",
      "1.5.1\n",
      "0.15.0\n"
     ]
    }
   ],
   "source": [
    "import pandas as pd\n",
    "from bertopic import BERTopic\n",
    "import random\n",
    "from bertopic.representation import KeyBERTInspired\n",
    "import numpy as np\n",
    "import bertopic\n",
    "from sklearn.metrics.pairwise import cosine_similarity\n",
    "\n",
    "import scipy\n",
    "print(scipy.__version__)\n",
    "\n",
    "\n",
    "\n",
    "print(np.__version__)\n",
    "print(pd.__version__)\n",
    "print(bertopic.__version__)\n"
   ]
  },
  {
   "cell_type": "code",
   "execution_count": 2,
   "metadata": {},
   "outputs": [
    {
     "name": "stdout",
     "output_type": "stream",
     "text": [
      "3.9.13\n"
     ]
    }
   ],
   "source": [
    "from platform import python_version\n",
    "\n",
    "print(python_version())"
   ]
  },
  {
   "cell_type": "code",
   "execution_count": 3,
   "metadata": {},
   "outputs": [
    {
     "name": "stdout",
     "output_type": "stream",
     "text": [
      "Defaulting to user installation because normal site-packages is not writeable\n",
      "Requirement already satisfied: openpyxl in /rwthfs/rz/cluster/home/cj010365/.local/lib/python3.9/site-packages (3.1.2)\n",
      "Requirement already satisfied: et-xmlfile in /rwthfs/rz/cluster/home/cj010365/.local/lib/python3.9/site-packages (from openpyxl) (1.1.0)\n",
      "Note: you may need to restart the kernel to use updated packages.\n"
     ]
    }
   ],
   "source": [
    "%pip install openpyxl\n"
   ]
  },
  {
   "cell_type": "code",
   "execution_count": 4,
   "metadata": {},
   "outputs": [],
   "source": [
    "parl_model = BERTopic.load(\"ParlModel\")\n",
    "twitter_model = BERTopic.load(\"tweet_model\")\n",
    "\n",
    "\n",
    "twitter_model_info = twitter_model.get_topic_info()\n",
    "parl_model_info = parl_model.get_topic_info()\n"
   ]
  },
  {
   "cell_type": "code",
   "execution_count": 5,
   "metadata": {},
   "outputs": [],
   "source": [
    "twitter_model_info.to_excel('../data/twitter_model_info.xlsx')\n",
    "parl_model_info.to_excel('../data/parl_model_info.xlsx')"
   ]
  },
  {
   "cell_type": "code",
   "execution_count": 6,
   "metadata": {},
   "outputs": [],
   "source": [
    "sim_matrix = cosine_similarity(twitter_model.topic_embeddings_, parl_model.topic_embeddings_)"
   ]
  },
  {
   "cell_type": "code",
   "execution_count": 7,
   "metadata": {},
   "outputs": [
    {
     "name": "stdout",
     "output_type": "stream",
     "text": [
      "(99, 5)\n",
      "(133, 5)\n",
      "<class 'numpy.ndarray'>\n"
     ]
    }
   ],
   "source": [
    "print(twitter_model_info.shape)\n",
    "print(parl_model_info.shape)\n",
    "\n",
    "print(type(sim_matrix))\n",
    "with open('sim_matrix.npy', 'wb') as f:\n",
    "\n",
    "    np.save(f, sim_matrix)\n"
   ]
  },
  {
   "cell_type": "code",
   "execution_count": 8,
   "metadata": {},
   "outputs": [
    {
     "data": {
      "text/html": [
       "<div>\n",
       "<style scoped>\n",
       "    .dataframe tbody tr th:only-of-type {\n",
       "        vertical-align: middle;\n",
       "    }\n",
       "\n",
       "    .dataframe tbody tr th {\n",
       "        vertical-align: top;\n",
       "    }\n",
       "\n",
       "    .dataframe thead th {\n",
       "        text-align: right;\n",
       "    }\n",
       "</style>\n",
       "<table border=\"1\" class=\"dataframe\">\n",
       "  <thead>\n",
       "    <tr style=\"text-align: right;\">\n",
       "      <th></th>\n",
       "      <th>Topic</th>\n",
       "      <th>Count</th>\n",
       "      <th>Name</th>\n",
       "      <th>Representation</th>\n",
       "      <th>Representative_Docs</th>\n",
       "    </tr>\n",
       "  </thead>\n",
       "  <tbody>\n",
       "    <tr>\n",
       "      <th>0</th>\n",
       "      <td>-1</td>\n",
       "      <td>9129</td>\n",
       "      <td>-1_präsident_gesetzentwurf_gesagt_weil</td>\n",
       "      <td>[präsident, gesetzentwurf, gesagt, weil, bunde...</td>\n",
       "      <td>[Herr Präsident! Meine Damen und Herren! 2,4 M...</td>\n",
       "    </tr>\n",
       "    <tr>\n",
       "      <th>1</th>\n",
       "      <td>0</td>\n",
       "      <td>563</td>\n",
       "      <td>0_epidemischen_epidemische_coronakrise_coronap...</td>\n",
       "      <td>[epidemischen, epidemische, coronakrise, coron...</td>\n",
       "      <td>[Herr Präsident! Meine Damen! Meine Herren! No...</td>\n",
       "    </tr>\n",
       "    <tr>\n",
       "      <th>2</th>\n",
       "      <td>1</td>\n",
       "      <td>534</td>\n",
       "      <td>1_präsidentin_minister_bedanken_diskutieren</td>\n",
       "      <td>[präsidentin, minister, bedanken, diskutieren,...</td>\n",
       "      <td>[Frau Präsidentin! Meine lieben Kolleginnen un...</td>\n",
       "    </tr>\n",
       "    <tr>\n",
       "      <th>3</th>\n",
       "      <td>2</td>\n",
       "      <td>461</td>\n",
       "      <td>2_politik_demokratie_partei_parlament</td>\n",
       "      <td>[politik, demokratie, partei, parlament, debat...</td>\n",
       "      <td>[Sehr geehrter Herr Präsident! Liebe Kolleginn...</td>\n",
       "    </tr>\n",
       "    <tr>\n",
       "      <th>4</th>\n",
       "      <td>3</td>\n",
       "      <td>422</td>\n",
       "      <td>3_migrationspolitik_migrationspakt_einwanderun...</td>\n",
       "      <td>[migrationspolitik, migrationspakt, einwanderu...</td>\n",
       "      <td>[Frau Kollegin Brugger, da wollten Sie Herrn D...</td>\n",
       "    </tr>\n",
       "    <tr>\n",
       "      <th>...</th>\n",
       "      <td>...</td>\n",
       "      <td>...</td>\n",
       "      <td>...</td>\n",
       "      <td>...</td>\n",
       "      <td>...</td>\n",
       "    </tr>\n",
       "    <tr>\n",
       "      <th>128</th>\n",
       "      <td>127</td>\n",
       "      <td>13</td>\n",
       "      <td>127_aserbaidschanische_aserbaidschan_armenien_...</td>\n",
       "      <td>[aserbaidschanische, aserbaidschan, armenien, ...</td>\n",
       "      <td>[Vielen Dank. – Herr Präsident! Meine Damen un...</td>\n",
       "    </tr>\n",
       "    <tr>\n",
       "      <th>129</th>\n",
       "      <td>128</td>\n",
       "      <td>12</td>\n",
       "      <td>128_krisen_krise_bündnispolitisch_krisenregelu...</td>\n",
       "      <td>[krisen, krise, bündnispolitisch, krisenregelu...</td>\n",
       "      <td>[Herr Präsident! Liebe Kolleginnen und Kollege...</td>\n",
       "    </tr>\n",
       "    <tr>\n",
       "      <th>130</th>\n",
       "      <td>129</td>\n",
       "      <td>12</td>\n",
       "      <td>129_verfassungsadäquates_verfassungsadäquat_ve...</td>\n",
       "      <td>[verfassungsadäquates, verfassungsadäquat, ver...</td>\n",
       "      <td>[Herr Präsident! Meine sehr geehrten Damen und...</td>\n",
       "    </tr>\n",
       "    <tr>\n",
       "      <th>131</th>\n",
       "      <td>130</td>\n",
       "      <td>12</td>\n",
       "      <td>130_rechtsextremismus_linksextremismus_extremi...</td>\n",
       "      <td>[rechtsextremismus, linksextremismus, extremis...</td>\n",
       "      <td>[Hochverehrter Herr Präsident! Meine Damen und...</td>\n",
       "    </tr>\n",
       "    <tr>\n",
       "      <th>132</th>\n",
       "      <td>131</td>\n",
       "      <td>12</td>\n",
       "      <td>131_stiftungsbeirat_verwaltungsföderalismus_st...</td>\n",
       "      <td>[stiftungsbeirat, verwaltungsföderalismus, sti...</td>\n",
       "      <td>[Guten Morgen, Herr Präsident! Meine sehr vere...</td>\n",
       "    </tr>\n",
       "  </tbody>\n",
       "</table>\n",
       "<p>133 rows × 5 columns</p>\n",
       "</div>"
      ],
      "text/plain": [
       "     Topic  Count                                               Name  \\\n",
       "0       -1   9129             -1_präsident_gesetzentwurf_gesagt_weil   \n",
       "1        0    563  0_epidemischen_epidemische_coronakrise_coronap...   \n",
       "2        1    534        1_präsidentin_minister_bedanken_diskutieren   \n",
       "3        2    461              2_politik_demokratie_partei_parlament   \n",
       "4        3    422  3_migrationspolitik_migrationspakt_einwanderun...   \n",
       "..     ...    ...                                                ...   \n",
       "128    127     13  127_aserbaidschanische_aserbaidschan_armenien_...   \n",
       "129    128     12  128_krisen_krise_bündnispolitisch_krisenregelu...   \n",
       "130    129     12  129_verfassungsadäquates_verfassungsadäquat_ve...   \n",
       "131    130     12  130_rechtsextremismus_linksextremismus_extremi...   \n",
       "132    131     12  131_stiftungsbeirat_verwaltungsföderalismus_st...   \n",
       "\n",
       "                                        Representation  \\\n",
       "0    [präsident, gesetzentwurf, gesagt, weil, bunde...   \n",
       "1    [epidemischen, epidemische, coronakrise, coron...   \n",
       "2    [präsidentin, minister, bedanken, diskutieren,...   \n",
       "3    [politik, demokratie, partei, parlament, debat...   \n",
       "4    [migrationspolitik, migrationspakt, einwanderu...   \n",
       "..                                                 ...   \n",
       "128  [aserbaidschanische, aserbaidschan, armenien, ...   \n",
       "129  [krisen, krise, bündnispolitisch, krisenregelu...   \n",
       "130  [verfassungsadäquates, verfassungsadäquat, ver...   \n",
       "131  [rechtsextremismus, linksextremismus, extremis...   \n",
       "132  [stiftungsbeirat, verwaltungsföderalismus, sti...   \n",
       "\n",
       "                                   Representative_Docs  \n",
       "0    [Herr Präsident! Meine Damen und Herren! 2,4 M...  \n",
       "1    [Herr Präsident! Meine Damen! Meine Herren! No...  \n",
       "2    [Frau Präsidentin! Meine lieben Kolleginnen un...  \n",
       "3    [Sehr geehrter Herr Präsident! Liebe Kolleginn...  \n",
       "4    [Frau Kollegin Brugger, da wollten Sie Herrn D...  \n",
       "..                                                 ...  \n",
       "128  [Vielen Dank. – Herr Präsident! Meine Damen un...  \n",
       "129  [Herr Präsident! Liebe Kolleginnen und Kollege...  \n",
       "130  [Herr Präsident! Meine sehr geehrten Damen und...  \n",
       "131  [Hochverehrter Herr Präsident! Meine Damen und...  \n",
       "132  [Guten Morgen, Herr Präsident! Meine sehr vere...  \n",
       "\n",
       "[133 rows x 5 columns]"
      ]
     },
     "execution_count": 8,
     "metadata": {},
     "output_type": "execute_result"
    }
   ],
   "source": [
    "parl_model_info"
   ]
  },
  {
   "cell_type": "code",
   "execution_count": 9,
   "metadata": {},
   "outputs": [
    {
     "name": "stdout",
     "output_type": "stream",
     "text": [
      "(99, 133)\n",
      "[(0, 1), (1, 8), (2, 1), (3, 1), (4, 39), (5, 7), (6, 10), (7, 12), (8, 23), (9, 1), (10, 9), (11, 72), (12, 11), (13, 9), (14, 7), (15, 16), (16, 5), (17, 73), (18, 51), (19, 55), (20, 21), (21, 7), (22, 38), (23, 44), (24, 79), (25, 28), (26, 14), (27, 35), (28, 79), (29, 42), (30, 5), (31, 26), (32, 30), (33, 76), (34, 10), (35, 69), (36, 86), (37, 5), (38, 81), (39, 70), (40, 38), (41, 1), (42, 98), (43, 56), (44, 51), (45, 65), (46, 7), (47, 5), (48, 7), (49, 1), (50, 12), (51, 48), (52, 29), (53, 16), (54, 37), (55, 81), (56, 34), (57, 81), (58, 51), (59, 46), (60, 70), (61, 48), (62, 92), (63, 55), (64, 74), (65, 1), (66, 78), (67, 40), (68, 66), (69, 1), (70, 56), (71, 1), (72, 1), (73, 73), (74, 30), (75, 5), (76, 36), (77, 76), (78, 30), (79, 54), (80, 72), (81, 98), (82, 81), (83, 16), (84, 51), (85, 74), (86, 47), (87, 24), (88, 81), (89, 9), (90, 7), (91, 1), (92, 98), (93, 48), (94, 92), (95, 55), (96, 12), (97, 1), (98, 81), (99, 92), (100, 16), (101, 81), (102, 38), (103, 16), (104, 31), (105, 81), (106, 12), (107, 59), (108, 38), (109, 98), (110, 10), (111, 59), (112, 10), (113, 44), (114, 84), (115, 43), (116, 16), (117, 7), (118, 32), (119, 45), (120, 79), (121, 48), (122, 71), (123, 38), (124, 36), (125, 57), (126, 12), (127, 16), (128, 27), (129, 48), (130, 1), (131, 32), (132, 1)]\n"
     ]
    }
   ],
   "source": [
    "out_scores = []\n",
    "out_debate_topics = []\n",
    "out_debate_index = []\n",
    "\n",
    "twitter_1_index = []\n",
    "twitter_2_index = []\n",
    "twitter_3_index = []\n",
    "\n",
    "twitter_1_topics = []\n",
    "twitter_2_topics = []\n",
    "twitter_3_topics = []\n",
    "\n",
    "\n",
    "pairs = []\n",
    "\n",
    "print(sim_matrix.shape)\n",
    "\n",
    "\n",
    "\n",
    "\n",
    "\n",
    "for row_ind in range(sim_matrix.shape[1]):\n",
    "    row = sim_matrix[:,row_ind]\n",
    "\n",
    "    pairs.append((row_ind, np.argmax(row)))\n",
    "\n",
    "    out_scores.append(sim_matrix[np.argmax(row), row_ind])\n",
    "    \n",
    "    out_debate_index.append(parl_model_info.iloc[row_ind]['Topic'])\n",
    "    out_debate_topics.append(parl_model_info.iloc[row_ind]['Representation'])\n",
    "\n",
    "    \n",
    "    # get the 3 arguments of the largest 3 values\n",
    "    sorted_indices = np.argsort(row)[::-1]\n",
    "    \n",
    "    # Take the first three indices\n",
    "    largest_indices = sorted_indices[:3]\n",
    "\n",
    "    twitter_1_index.append(twitter_model_info.iloc[largest_indices[0]]['Topic'])\n",
    "    twitter_1_topics.append(twitter_model_info.iloc[largest_indices[0]]['Representation'])\n",
    "\n",
    "    twitter_2_index.append(twitter_model_info.iloc[largest_indices[1]]['Topic'])\n",
    "    twitter_2_topics.append(twitter_model_info.iloc[largest_indices[1]]['Representation'])\n",
    "\n",
    "    twitter_3_index.append(twitter_model_info.iloc[largest_indices[2]]['Topic'])\n",
    "    twitter_3_topics.append(twitter_model_info.iloc[largest_indices[2]]['Representation'])\n",
    "\n",
    "    \n",
    "\n",
    "df = pd.DataFrame({\n",
    "    'debate_topic': out_debate_topics, \n",
    "    'debate_index': out_debate_index, \n",
    "    'twitter_1_topic': twitter_1_topics,\n",
    "    'twitter_1_index': twitter_1_index,\n",
    "    'twitter_2_topic': twitter_2_topics,\n",
    "    'twitter_2_index': twitter_2_index,\n",
    "    'twitter_3_topic': twitter_3_topics,\n",
    "    'twitter_3_index': twitter_3_index,\n",
    "    'score': out_scores})\n",
    "df.to_csv('topic_mapping_02.csv', index=False)\n"
   ]
  }
 ],
 "metadata": {
  "kernelspec": {
   "display_name": "Python 3 (ipykernel)",
   "language": "python",
   "name": "python3"
  },
  "language_info": {
   "codemirror_mode": {
    "name": "ipython",
    "version": 3
   },
   "file_extension": ".py",
   "mimetype": "text/x-python",
   "name": "python",
   "nbconvert_exporter": "python",
   "pygments_lexer": "ipython3",
   "version": "3.9.13"
  }
 },
 "nbformat": 4,
 "nbformat_minor": 4
}
