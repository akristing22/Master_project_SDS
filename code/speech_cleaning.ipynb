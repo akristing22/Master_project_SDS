{
 "cells": [
  {
   "cell_type": "code",
   "execution_count": 1,
   "metadata": {},
   "outputs": [],
   "source": [
    "import pandas as pd\n",
    "import matplotlib.pyplot as plt"
   ]
  },
  {
   "cell_type": "code",
   "execution_count": 2,
   "metadata": {},
   "outputs": [],
   "source": [
    "parl_data = pd.read_json('../data/speeches.jsonl',lines=True)"
   ]
  },
  {
   "cell_type": "code",
   "execution_count": 3,
   "metadata": {},
   "outputs": [
    {
     "data": {
      "text/html": [
       "<div>\n",
       "<style scoped>\n",
       "    .dataframe tbody tr th:only-of-type {\n",
       "        vertical-align: middle;\n",
       "    }\n",
       "\n",
       "    .dataframe tbody tr th {\n",
       "        vertical-align: top;\n",
       "    }\n",
       "\n",
       "    .dataframe thead th {\n",
       "        text-align: right;\n",
       "    }\n",
       "</style>\n",
       "<table border=\"1\" class=\"dataframe\">\n",
       "  <thead>\n",
       "    <tr style=\"text-align: right;\">\n",
       "      <th></th>\n",
       "      <th>id</th>\n",
       "      <th>period</th>\n",
       "      <th>date</th>\n",
       "      <th>name</th>\n",
       "      <th>party</th>\n",
       "      <th>text</th>\n",
       "      <th>discussion_title</th>\n",
       "    </tr>\n",
       "  </thead>\n",
       "  <tbody>\n",
       "    <tr>\n",
       "      <th>0</th>\n",
       "      <td>ID19100100</td>\n",
       "      <td>19</td>\n",
       "      <td>2017-10-24</td>\n",
       "      <td>Alterspräsident Dr. Hermann Otto Solms</td>\n",
       "      <td>FDP</td>\n",
       "      <td>Guten Morgen, liebe Kolleginnen und Kollegen! ...</td>\n",
       "      <td>Tagesordnungspunkt 1 2017-10-24</td>\n",
       "    </tr>\n",
       "    <tr>\n",
       "      <th>1</th>\n",
       "      <td>ID19100200</td>\n",
       "      <td>19</td>\n",
       "      <td>2017-10-24</td>\n",
       "      <td>Alterspräsident Dr. Hermann Otto Solms</td>\n",
       "      <td>FDP</td>\n",
       "      <td></td>\n",
       "      <td>Tagesordnungspunkt 1 2017-10-24</td>\n",
       "    </tr>\n",
       "    <tr>\n",
       "      <th>2</th>\n",
       "      <td>ID19100300</td>\n",
       "      <td>19</td>\n",
       "      <td>2017-10-24</td>\n",
       "      <td>Carsten Schneider</td>\n",
       "      <td>SPD</td>\n",
       "      <td>Sehr geehrter Herr Präsident! Sehr geehrte Kol...</td>\n",
       "      <td>Tagesordnungspunkt 2 2017-10-24</td>\n",
       "    </tr>\n",
       "    <tr>\n",
       "      <th>3</th>\n",
       "      <td>ID19100400</td>\n",
       "      <td>19</td>\n",
       "      <td>2017-10-24</td>\n",
       "      <td>Bernd Baumann</td>\n",
       "      <td>AfD</td>\n",
       "      <td>Herr Präsident! Meine Damen und Herren! Immer ...</td>\n",
       "      <td>Tagesordnungspunkt 2 2017-10-24</td>\n",
       "    </tr>\n",
       "    <tr>\n",
       "      <th>4</th>\n",
       "      <td>ID19100500</td>\n",
       "      <td>19</td>\n",
       "      <td>2017-10-24</td>\n",
       "      <td>Jan Korte</td>\n",
       "      <td>DIE LINKE</td>\n",
       "      <td>Herr Präsident! Liebe Kolleginnen und Kollegen...</td>\n",
       "      <td>Tagesordnungspunkt 2 2017-10-24</td>\n",
       "    </tr>\n",
       "  </tbody>\n",
       "</table>\n",
       "</div>"
      ],
      "text/plain": [
       "           id  period       date                                    name  \\\n",
       "0  ID19100100      19 2017-10-24  Alterspräsident Dr. Hermann Otto Solms   \n",
       "1  ID19100200      19 2017-10-24  Alterspräsident Dr. Hermann Otto Solms   \n",
       "2  ID19100300      19 2017-10-24                       Carsten Schneider   \n",
       "3  ID19100400      19 2017-10-24                           Bernd Baumann   \n",
       "4  ID19100500      19 2017-10-24                               Jan Korte   \n",
       "\n",
       "       party                                               text  \\\n",
       "0        FDP  Guten Morgen, liebe Kolleginnen und Kollegen! ...   \n",
       "1        FDP                                                      \n",
       "2        SPD  Sehr geehrter Herr Präsident! Sehr geehrte Kol...   \n",
       "3        AfD  Herr Präsident! Meine Damen und Herren! Immer ...   \n",
       "4  DIE LINKE  Herr Präsident! Liebe Kolleginnen und Kollegen...   \n",
       "\n",
       "                  discussion_title  \n",
       "0  Tagesordnungspunkt 1 2017-10-24  \n",
       "1  Tagesordnungspunkt 1 2017-10-24  \n",
       "2  Tagesordnungspunkt 2 2017-10-24  \n",
       "3  Tagesordnungspunkt 2 2017-10-24  \n",
       "4  Tagesordnungspunkt 2 2017-10-24  "
      ]
     },
     "execution_count": 3,
     "metadata": {},
     "output_type": "execute_result"
    }
   ],
   "source": [
    "parl_data.head()"
   ]
  },
  {
   "cell_type": "code",
   "execution_count": 4,
   "metadata": {},
   "outputs": [],
   "source": [
    "parl_data['text_length'] = parl_data['text'].str.len()"
   ]
  },
  {
   "cell_type": "code",
   "execution_count": 5,
   "metadata": {},
   "outputs": [
    {
     "data": {
      "image/png": "[encoded data removed]",
      "text/plain": [
       "<Figure size 640x480 with 1 Axes>"
      ]
     },
     "metadata": {},
     "output_type": "display_data"
    }
   ],
   "source": [
    "#plot distribution of speech length with seaborn, set x-axis to max 20000\n",
    "parl_data['text_length'].plot(kind='hist', bins=100)\n",
    "plt.xlim(0, 20000)\n",
    "plt.title('Distribution of speech length')\n",
    "plt.savefig('../plots/speech_length_distribution.png')"
   ]
  },
  {
   "cell_type": "code",
   "execution_count": 6,
   "metadata": {},
   "outputs": [],
   "source": [
    "parl_data = parl_data[parl_data['text_length'] > 2500]"
   ]
  },
  {
   "cell_type": "code",
   "execution_count": 27,
   "metadata": {},
   "outputs": [],
   "source": [
    "parl_data.to_csv('../data/speeches_cleaned.csv',index=False,sep='|')"
   ]
  },
  {
   "cell_type": "code",
   "execution_count": 28,
   "metadata": {},
   "outputs": [
    {
     "data": {
      "text/plain": [
       "(19018, 8)"
      ]
     },
     "execution_count": 28,
     "metadata": {},
     "output_type": "execute_result"
    }
   ],
   "source": [
    "parl_data.shape"
   ]
  },
  {
   "cell_type": "code",
   "execution_count": 7,
   "metadata": {},
   "outputs": [
    {
     "data": {
      "image/png": "[encoded data removed]",
      "text/plain": [
       "<Figure size 640x480 with 1 Axes>"
      ]
     },
     "metadata": {},
     "output_type": "display_data"
    }
   ],
   "source": [
    "#plot distribution of speech length with seaborn, set x-axis to max 20000\n",
    "parl_data['text_length'].plot(kind='hist', bins=100)\n",
    "plt.xlim(0, 20000)\n",
    "plt.title('Distribution of speech length')\n",
    "plt.savefig('../plots/speech_length_distribution_after.png')"
   ]
  },
  {
   "cell_type": "code",
   "execution_count": 9,
   "metadata": {},
   "outputs": [
    {
     "data": {
      "text/plain": [
       "count    19018.000000\n",
       "mean       689.932117\n",
       "std        266.887217\n",
       "min        324.000000\n",
       "25%        523.000000\n",
       "50%        639.000000\n",
       "75%        789.000000\n",
       "max       5966.000000\n",
       "Name: text, dtype: float64"
      ]
     },
     "execution_count": 9,
     "metadata": {},
     "output_type": "execute_result"
    }
   ],
   "source": [
    "parl_data['text'].apply(lambda x: len(x.split(' '))).describe()"
   ]
  },
  {
   "cell_type": "code",
   "execution_count": null,
   "metadata": {},
   "outputs": [],
   "source": []
  }
 ],
 "metadata": {
  "kernelspec": {
   "display_name": "base",
   "language": "python",
   "name": "python3"
  },
  "language_info": {
   "codemirror_mode": {
    "name": "ipython",
    "version": 3
   },
   "file_extension": ".py",
   "mimetype": "text/x-python",
   "name": "python",
   "nbconvert_exporter": "python",
   "pygments_lexer": "ipython3",
   "version": "3.10.13"
  }
 },
 "nbformat": 4,
 "nbformat_minor": 2
}
