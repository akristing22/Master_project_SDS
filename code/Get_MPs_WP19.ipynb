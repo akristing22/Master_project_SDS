{
 "cells": [
  {
   "cell_type": "code",
   "execution_count": 85,
   "metadata": {},
   "outputs": [],
   "source": [
    "import pandas as pd\n",
    "import lxml\n",
    "import re\n",
    "import datetime#\n",
    "import numpy as np"
   ]
  },
  {
   "cell_type": "code",
   "execution_count": 61,
   "metadata": {},
   "outputs": [],
   "source": [
    "legislative_period_19_begin = datetime.date(2017, 10, 24)\n",
    "legislative_period_19_end = datetime.date(2021, 10, 26)"
   ]
  },
  {
   "cell_type": "code",
   "execution_count": 69,
   "metadata": {},
   "outputs": [],
   "source": [
    "#read xml file to pandas dataframe\n",
    "df = pd.read_xml('MDB_STAMMDATEN.xml', parser=\"lxml\",xpath='//MDB[WAHLPERIODEN//WAHLPERIODE/WP=19]//NAMEN/NAME')\n",
    "#remove row where HISTORIE_BIS is not empty (these are duplicates)\n",
    "df = df[df['HISTORIE_BIS'].isnull()]\n",
    "#add complete name column\n",
    "df['NAME'] = df['ANREDE_TITEL'] + ' ' + df['VORNAME'] + ' ' + df['NACHNAME']\n",
    "df['NAME'] = df['NAME'].fillna(df['VORNAME'] + ' ' + df['NACHNAME'])\n",
    "#remove columns that are not needed\n",
    "df = df.drop(['ORTSZUSATZ','ADEL','PRAEFIX','HISTORIE_VON','HISTORIE_BIS'],axis=1)\n",
    "# add columns for legislative period\n",
    "df['START'] = [legislative_period_19_begin]*len(df)\n",
    "df['END'] = [legislative_period_19_end]*len(df) "
   ]
  },
  {
   "cell_type": "code",
   "execution_count": 70,
   "metadata": {},
   "outputs": [
    {
     "data": {
      "text/html": [
       "<div>\n",
       "<style scoped>\n",
       "    .dataframe tbody tr th:only-of-type {\n",
       "        vertical-align: middle;\n",
       "    }\n",
       "\n",
       "    .dataframe tbody tr th {\n",
       "        vertical-align: top;\n",
       "    }\n",
       "\n",
       "    .dataframe thead th {\n",
       "        text-align: right;\n",
       "    }\n",
       "</style>\n",
       "<table border=\"1\" class=\"dataframe\">\n",
       "  <thead>\n",
       "    <tr style=\"text-align: right;\">\n",
       "      <th></th>\n",
       "      <th>NACHNAME</th>\n",
       "      <th>VORNAME</th>\n",
       "      <th>ANREDE_TITEL</th>\n",
       "      <th>AKAD_TITEL</th>\n",
       "      <th>NAME</th>\n",
       "      <th>START</th>\n",
       "      <th>END</th>\n",
       "    </tr>\n",
       "  </thead>\n",
       "  <tbody>\n",
       "    <tr>\n",
       "      <th>0</th>\n",
       "      <td>Bleser</td>\n",
       "      <td>Peter</td>\n",
       "      <td>None</td>\n",
       "      <td>None</td>\n",
       "      <td>Peter Bleser</td>\n",
       "      <td>2017-10-24</td>\n",
       "      <td>2021-10-26</td>\n",
       "    </tr>\n",
       "    <tr>\n",
       "      <th>1</th>\n",
       "      <td>Brecht</td>\n",
       "      <td>Eberhard</td>\n",
       "      <td>Dr.</td>\n",
       "      <td>Dr.</td>\n",
       "      <td>Dr. Eberhard Brecht</td>\n",
       "      <td>2017-10-24</td>\n",
       "      <td>2021-10-26</td>\n",
       "    </tr>\n",
       "    <tr>\n",
       "      <th>3</th>\n",
       "      <td>Dehm</td>\n",
       "      <td>Diether</td>\n",
       "      <td>Dr.</td>\n",
       "      <td>Dr.</td>\n",
       "      <td>Dr. Diether Dehm</td>\n",
       "      <td>2017-10-24</td>\n",
       "      <td>2021-10-26</td>\n",
       "    </tr>\n",
       "    <tr>\n",
       "      <th>4</th>\n",
       "      <td>Fuchtel</td>\n",
       "      <td>Hans-Joachim</td>\n",
       "      <td>None</td>\n",
       "      <td>None</td>\n",
       "      <td>Hans-Joachim Fuchtel</td>\n",
       "      <td>2017-10-24</td>\n",
       "      <td>2021-10-26</td>\n",
       "    </tr>\n",
       "    <tr>\n",
       "      <th>5</th>\n",
       "      <td>Gysi</td>\n",
       "      <td>Gregor</td>\n",
       "      <td>Dr.</td>\n",
       "      <td>Dr.</td>\n",
       "      <td>Dr. Gregor Gysi</td>\n",
       "      <td>2017-10-24</td>\n",
       "      <td>2021-10-26</td>\n",
       "    </tr>\n",
       "    <tr>\n",
       "      <th>...</th>\n",
       "      <td>...</td>\n",
       "      <td>...</td>\n",
       "      <td>...</td>\n",
       "      <td>...</td>\n",
       "      <td>...</td>\n",
       "      <td>...</td>\n",
       "      <td>...</td>\n",
       "    </tr>\n",
       "    <tr>\n",
       "      <th>785</th>\n",
       "      <td>Emmerich</td>\n",
       "      <td>Marcel</td>\n",
       "      <td>None</td>\n",
       "      <td>None</td>\n",
       "      <td>Marcel Emmerich</td>\n",
       "      <td>2017-10-24</td>\n",
       "      <td>2021-10-26</td>\n",
       "    </tr>\n",
       "    <tr>\n",
       "      <th>786</th>\n",
       "      <td>Wetterich</td>\n",
       "      <td>Susanne</td>\n",
       "      <td>None</td>\n",
       "      <td>None</td>\n",
       "      <td>Susanne Wetterich</td>\n",
       "      <td>2017-10-24</td>\n",
       "      <td>2021-10-26</td>\n",
       "    </tr>\n",
       "    <tr>\n",
       "      <th>787</th>\n",
       "      <td>Jäger</td>\n",
       "      <td>Florian</td>\n",
       "      <td>None</td>\n",
       "      <td>None</td>\n",
       "      <td>Florian Jäger</td>\n",
       "      <td>2017-10-24</td>\n",
       "      <td>2021-10-26</td>\n",
       "    </tr>\n",
       "    <tr>\n",
       "      <th>788</th>\n",
       "      <td>Gökhan</td>\n",
       "      <td>Zeki</td>\n",
       "      <td>None</td>\n",
       "      <td>None</td>\n",
       "      <td>Zeki Gökhan</td>\n",
       "      <td>2017-10-24</td>\n",
       "      <td>2021-10-26</td>\n",
       "    </tr>\n",
       "    <tr>\n",
       "      <th>789</th>\n",
       "      <td>Bollmann</td>\n",
       "      <td>Gereon</td>\n",
       "      <td>None</td>\n",
       "      <td>None</td>\n",
       "      <td>Gereon Bollmann</td>\n",
       "      <td>2017-10-24</td>\n",
       "      <td>2021-10-26</td>\n",
       "    </tr>\n",
       "  </tbody>\n",
       "</table>\n",
       "<p>750 rows × 7 columns</p>\n",
       "</div>"
      ],
      "text/plain": [
       "      NACHNAME       VORNAME ANREDE_TITEL AKAD_TITEL                  NAME  \\\n",
       "0       Bleser         Peter         None       None          Peter Bleser   \n",
       "1       Brecht      Eberhard          Dr.        Dr.   Dr. Eberhard Brecht   \n",
       "3         Dehm       Diether          Dr.        Dr.      Dr. Diether Dehm   \n",
       "4      Fuchtel  Hans-Joachim         None       None  Hans-Joachim Fuchtel   \n",
       "5         Gysi        Gregor          Dr.        Dr.       Dr. Gregor Gysi   \n",
       "..         ...           ...          ...        ...                   ...   \n",
       "785   Emmerich        Marcel         None       None       Marcel Emmerich   \n",
       "786  Wetterich       Susanne         None       None     Susanne Wetterich   \n",
       "787      Jäger       Florian         None       None         Florian Jäger   \n",
       "788     Gökhan          Zeki         None       None           Zeki Gökhan   \n",
       "789   Bollmann        Gereon         None       None       Gereon Bollmann   \n",
       "\n",
       "          START         END  \n",
       "0    2017-10-24  2021-10-26  \n",
       "1    2017-10-24  2021-10-26  \n",
       "3    2017-10-24  2021-10-26  \n",
       "4    2017-10-24  2021-10-26  \n",
       "5    2017-10-24  2021-10-26  \n",
       "..          ...         ...  \n",
       "785  2017-10-24  2021-10-26  \n",
       "786  2017-10-24  2021-10-26  \n",
       "787  2017-10-24  2021-10-26  \n",
       "788  2017-10-24  2021-10-26  \n",
       "789  2017-10-24  2021-10-26  \n",
       "\n",
       "[750 rows x 7 columns]"
      ]
     },
     "execution_count": 70,
     "metadata": {},
     "output_type": "execute_result"
    }
   ],
   "source": [
    "df"
   ]
  },
  {
   "cell_type": "code",
   "execution_count": 71,
   "metadata": {},
   "outputs": [],
   "source": [
    "#read excel sheet with MPs that left the Bundestag before the end of the legislative period\n",
    "exes = pd.read_excel('Ausgeschiedene.xlsx')\n",
    "\n",
    "#in column 'Abgeordnete/r' and 'Nachfolger/in' remove everything after the first comma\n",
    "exes['Nachfolger/in'] = exes['Nachfolger/in'].str.split(',').str[0]\n",
    "exes['Abgeordnete/r'] = exes['Abgeordnete/r'].str.split(',').str[0]\n",
    "\n",
    "#in columns 'Abgeordnete/r' and 'Nachfolger/in' remove everything after the first bracket\n",
    "exes['Nachfolger/in'] = exes['Nachfolger/in'].str.split('(').str[0]\n",
    "exes['Abgeordnete/r'] = exes['Abgeordnete/r'].str.split('(').str[0]"
   ]
  },
  {
   "cell_type": "code",
   "execution_count": 78,
   "metadata": {},
   "outputs": [
    {
     "data": {
      "text/plain": [
       "(41, 4)"
      ]
     },
     "execution_count": 78,
     "metadata": {},
     "output_type": "execute_result"
    }
   ],
   "source": [
    "exes.shape"
   ]
  },
  {
   "cell_type": "code",
   "execution_count": 88,
   "metadata": {},
   "outputs": [
    {
     "name": "stdout",
     "output_type": "stream",
     "text": [
      "Prof. Dr. Axel Gehrke\n",
      "Axel Troost\n",
      "Stephan Kühn \n",
      "Reginald Hanke\n",
      "Dr. Ursula von der Leyen\n",
      "Isabel Mackensen\n"
     ]
    }
   ],
   "source": [
    "# for the MPs who left/joined parliament during the 19th election period, change start/end date in df\n",
    "\n",
    "#get index of df where 'name' is the same as x\n",
    "def get_index(x):\n",
    "    return df[df['NAME'] == x].index.values.astype(int)\n",
    "\n",
    "for r in exes.index:\n",
    "    idx = get_index(exes['Abgeordnete/r'][r])\n",
    "    if len(idx) == 0:\n",
    "        print(exes['Abgeordnete/r'][r])\n",
    "    df.loc[idx,'END'] = exes['ausgeschieden'][r]\n",
    "    idx = get_index(exes['Nachfolger/in'][r])\n",
    "    if len(idx)==0:\n",
    "        print(exes['Nachfolger/in'][r])\n",
    "    df.loc[idx,'START'] = exes['eingetreten'][r]\n"
   ]
  },
  {
   "cell_type": "code",
   "execution_count": 79,
   "metadata": {},
   "outputs": [
    {
     "data": {
      "text/plain": [
       "(38, 7)"
      ]
     },
     "execution_count": 79,
     "metadata": {},
     "output_type": "execute_result"
    }
   ],
   "source": [
    "df[df['START']!=legislative_period_19_begin]\n"
   ]
  },
  {
   "cell_type": "code",
   "execution_count": 89,
   "metadata": {},
   "outputs": [],
   "source": [
    "df.to_excel('MPs_WP19.xlsx')"
   ]
  },
  {
   "cell_type": "code",
   "execution_count": null,
   "metadata": {},
   "outputs": [],
   "source": [
    "#I manually changed the dates for the MPs who could not be matched automatically (see excel file)"
   ]
  }
 ],
 "metadata": {
  "kernelspec": {
   "display_name": "base",
   "language": "python",
   "name": "python3"
  },
  "language_info": {
   "codemirror_mode": {
    "name": "ipython",
    "version": 3
   },
   "file_extension": ".py",
   "mimetype": "text/x-python",
   "name": "python",
   "nbconvert_exporter": "python",
   "pygments_lexer": "ipython3",
   "version": "3.10.13"
  }
 },
 "nbformat": 4,
 "nbformat_minor": 2
}
