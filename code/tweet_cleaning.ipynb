{
 "cells": [
  {
   "cell_type": "code",
   "execution_count": 1,
   "metadata": {},
   "outputs": [],
   "source": [
    "import pandas as pd\n",
    "import datetime\n",
    "import re\n"
   ]
  },
  {
   "cell_type": "code",
   "execution_count": 2,
   "metadata": {},
   "outputs": [],
   "source": [
    "tweet_data = pd.read_csv(\"../data/combined_DE_politician_twitter_timelines_2016-01-01_to_2023-02-11_clean.csv\")\n",
    "tweet_data.created_at = pd.to_datetime(tweet_data.created_at)\n"
   ]
  },
  {
   "cell_type": "code",
   "execution_count": 3,
   "metadata": {},
   "outputs": [
    {
     "name": "stdout",
     "output_type": "stream",
     "text": [
      "Number of tweets:  1559359\n"
     ]
    }
   ],
   "source": [
    "print(\"Number of tweets: \", len(tweet_data))"
   ]
  },
  {
   "cell_type": "code",
   "execution_count": 4,
   "metadata": {},
   "outputs": [
    {
     "name": "stdout",
     "output_type": "stream",
     "text": [
      "<class 'pandas.core.frame.DataFrame'>\n",
      "Index: 708874 entries, 189 to 1549658\n",
      "Data columns (total 12 columns):\n",
      " #   Column         Non-Null Count   Dtype              \n",
      "---  ------         --------------   -----              \n",
      " 0   id             708874 non-null  int64              \n",
      " 1   author_id      708874 non-null  int64              \n",
      " 2   created_at     708874 non-null  datetime64[ns, UTC]\n",
      " 3   expanded_urls  708874 non-null  object             \n",
      " 4   retweeted      708874 non-null  bool               \n",
      " 5   quoted         708874 non-null  bool               \n",
      " 6   reply          708874 non-null  bool               \n",
      " 7   text           708874 non-null  object             \n",
      " 8   retweet_count  708874 non-null  int64              \n",
      " 9   reply_count    708874 non-null  int64              \n",
      " 10  like_count     708874 non-null  int64              \n",
      " 11  quote_count    708874 non-null  int64              \n",
      "dtypes: bool(3), datetime64[ns, UTC](1), int64(6), object(2)\n",
      "memory usage: 56.1+ MB\n",
      "Number of tweets in the 19th legislative period:  708874\n"
     ]
    }
   ],
   "source": [
    "# get data of the 19th legislative period\n",
    "\n",
    "legislative_period_19_begin = datetime.date(2017, 10, 24)\n",
    "legislative_period_19_end = datetime.date(2021, 10, 26)\n",
    "\n",
    "\n",
    "filtered_tweet_data = tweet_data[tweet_data.created_at.dt.date > legislative_period_19_begin]\n",
    "filtered_tweet_data = filtered_tweet_data[filtered_tweet_data.created_at.dt.date < legislative_period_19_end]\n",
    "filtered_tweet_data.info()\n",
    "filtered_tweet_data.head()\n",
    "# size\n",
    "print(\"Number of tweets in the 19th legislative period: \", len(filtered_tweet_data))\n"
   ]
  },
  {
   "cell_type": "code",
   "execution_count": 5,
   "metadata": {},
   "outputs": [
    {
     "name": "stdout",
     "output_type": "stream",
     "text": [
      "Shape of data before cleaning  (708874, 12)\n",
      "Shape of data after cleaning  (666567, 12)\n"
     ]
    }
   ],
   "source": [
    "\n",
    "def clean_text(text):\n",
    "    # Replace @mentions with 'user'\n",
    "    text = re.sub(r'@[A-Za-z0-9]+', 'user', text) \n",
    "    # Remove '#' hash tag\n",
    "    text = re.sub(r'#', '', text) \n",
    "    # Remove RT\n",
    "    text = re.sub(r'RT[\\s]+', '', text) \n",
    "    # Remove hyperlink\n",
    "    text = re.sub(r'https?:\\/\\/\\S+', '', text) \n",
    "    # Remove newline\n",
    "    text = re.sub(r'\\n', ' ', text) \n",
    "    # Remove newline\n",
    "    text = re.sub(r'\\\\n', ' ', text) \n",
    "    # remove all sperators\n",
    "    text = re.sub(r'\\W', ' ', text)\n",
    "    # remove all sequences of whitespace characters\n",
    "    text = re.sub(r'\\s+', ' ', text)\n",
    "\n",
    "    # remove emojis\n",
    "    emoji_pattern = re.compile(\"[\"\n",
    "                           u\"\\U0001F600-\\U0001F64F\"  \n",
    "                           u\"\\U0001F300-\\U0001F5FF\"  \n",
    "                           u\"\\U0001F680-\\U0001F6FF\"  \n",
    "                           u\"\\U0001F700-\\U0001F77F\"  \n",
    "                           u\"\\U0001F780-\\U0001F7FF\"  \n",
    "                           u\"\\U0001F800-\\U0001F8FF\"  \n",
    "                           u\"\\U0001F900-\\U0001F9FF\"  \n",
    "                           u\"\\U0001FA00-\\U0001FA6F\"  \n",
    "                           u\"\\U0001FA70-\\U0001FAFF\"  \n",
    "                           u\"\\U00002702-\\U000027B0\"  \n",
    "                           u\"\\U000024C2-\\U0001F251\" \n",
    "                           \"]+\", flags=re.UNICODE)\n",
    "    text = emoji_pattern.sub(r'', text)\n",
    "    # change multiple spaces to one space\n",
    "    text = re.sub(r'\\s+', ' ', text)\n",
    "\n",
    "    # remmove whitespace \\u200d (zero width joiner)\n",
    "    text = re.sub(r'\\u200d', '', text, flags=re.UNICODE)\n",
    "\n",
    "    text = text.replace('\\u200d', '')\n",
    "\n",
    "    return text\n",
    "\n",
    "\n",
    "print(\"Shape of data before cleaning \" , filtered_tweet_data.shape)\n",
    "\n",
    "\n",
    "# apply the function to the 'text' column\n",
    "filtered_tweet_data['text'] = filtered_tweet_data['text'].apply(clean_text)\n",
    "\n",
    "\n",
    "# remove all tweets with less than 3 words\n",
    "filtered_tweet_data['num_words'] = filtered_tweet_data['text'].apply(lambda x: len(x.split()))\n",
    "filtered_tweet_data = filtered_tweet_data[filtered_tweet_data['num_words'] >= 3]\n",
    "# remove the column 'num_words'\n",
    "filtered_tweet_data = filtered_tweet_data.drop('num_words', axis=1)\n",
    "\n",
    "\n",
    "\n",
    "# save the cleaned data\n",
    "filtered_tweet_data.to_csv(\"../data/filtered_tweet_data.csv\")\n",
    "\n",
    "print(\"Shape of data after cleaning \" , filtered_tweet_data.shape)"
   ]
  },
  {
   "cell_type": "code",
   "execution_count": 6,
   "metadata": {},
   "outputs": [
    {
     "name": "stdout",
     "output_type": "stream",
     "text": [
      "Mean number of characters in the tweets:  151.5876993610545\n",
      "Standard deviation of the number of characters in the tweets:  83.81611770403673\n"
     ]
    }
   ],
   "source": [
    "# mean and sd of the number of characters in the tweets\n",
    "filtered_tweet_data['num_characters'] = filtered_tweet_data['text'].apply(lambda x: len(x))\n",
    "print(\"Mean number of characters in the tweets: \", filtered_tweet_data['num_characters'].mean())\n",
    "print(\"Standard deviation of the number of characters in the tweets: \", filtered_tweet_data['num_characters'].std())"
   ]
  }
 ],
 "metadata": {
  "kernelspec": {
   "display_name": "py10",
   "language": "python",
   "name": "python3"
  },
  "language_info": {
   "codemirror_mode": {
    "name": "ipython",
    "version": 3
   },
   "file_extension": ".py",
   "mimetype": "text/x-python",
   "name": "python",
   "nbconvert_exporter": "python",
   "pygments_lexer": "ipython3",
   "version": "3.10.13"
  }
 },
 "nbformat": 4,
 "nbformat_minor": 2
}
